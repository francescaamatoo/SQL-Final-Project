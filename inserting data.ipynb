{
 "cells": [
  {
   "cell_type": "code",
   "execution_count": 1,
   "id": "5f80398d",
   "metadata": {},
   "outputs": [],
   "source": [
    "import psycopg2, os"
   ]
  },
  {
   "cell_type": "markdown",
   "id": "beca4bfa",
   "metadata": {},
   "source": [
    "### Connecting to the database"
   ]
  },
  {
   "cell_type": "code",
   "execution_count": 2,
   "id": "5dbee58f",
   "metadata": {},
   "outputs": [
    {
     "name": "stdout",
     "output_type": "stream",
     "text": [
      "Connecting to the PostgreSQL database...\n"
     ]
    }
   ],
   "source": [
    "print(\"Connecting to the PostgreSQL database...\")\n",
    "conn = psycopg2.connect(\n",
    "    host = \"localhost\",\n",
    "    port = \"5432\",\n",
    "    database = \"postgres\",\n",
    "    user = \"postgres\",\n",
    "    password = \"123\"\n",
    ")"
   ]
  },
  {
   "cell_type": "code",
   "execution_count": 3,
   "id": "f7a81cdf",
   "metadata": {},
   "outputs": [],
   "source": [
    "cur = conn.cursor()"
   ]
  },
  {
   "cell_type": "markdown",
   "id": "a82ce569",
   "metadata": {},
   "source": [
    "### Creating the tables"
   ]
  },
  {
   "cell_type": "code",
   "execution_count": 4,
   "id": "f22504bc",
   "metadata": {},
   "outputs": [],
   "source": [
    "cur.execute(\"DROP TABLE departments CASCADE\")\n",
    "cur.execute(\"DROP TABLE employees CASCADE\")\n",
    "cur.execute(\"DROP TABLE managers CASCADE\")\n",
    "cur.execute(\"DROP TABLE customers CASCADE\")\n",
    "cur.execute(\"DROP TABLE interaction_techniques CASCADE\")\n",
    "cur.execute(\"DROP TABLE interaction_reasons CASCADE\")\n",
    "cur.execute(\"DROP TABLE interactions CASCADE\")\n",
    "cur.execute(\"DROP TABLE shop_categories CASCADE\")\n",
    "cur.execute(\"DROP TABLE shop_subcategories CASCADE\")\n",
    "cur.execute(\"DROP TABLE shops CASCADE\")\n",
    "cur.execute(\"DROP TABLE products CASCADE\")\n",
    "cur.execute(\"DROP TABLE website_views CASCADE\")\n",
    "cur.execute(\"DROP TABLE orders CASCADE\")\n",
    "cur.execute(\"DROP TABLE return_reasons CASCADE\")\n",
    "cur.execute(\"DROP TABLE return_methods CASCADE\")\n",
    "cur.execute(\"DROP TABLE returns CASCADE\")"
   ]
  },
  {
   "cell_type": "code",
   "execution_count": 5,
   "id": "27e0f398",
   "metadata": {},
   "outputs": [],
   "source": [
    "createCMD = \"\"\" \n",
    "CREATE TABLE departments (\n",
    "\tid\t\t\t\t\tvarchar(3) NOT NULL,\n",
    "\tdepartment_name\t\tvarchar(100),\n",
    "\tannual_budget\t\tnumeric(15,2),\n",
    "\tPRIMARY KEY (id)\n",
    ");\n",
    "\n",
    "CREATE TABLE employees (\n",
    "\tid\t\t\t\tvarchar(6) NOT NULL,\n",
    "\tdepartment_id\tvarchar(3),\n",
    "\tfirst_name\t\tvarchar(50),\n",
    "\tlast_name\t\tvarchar(50),\n",
    "\temail\t\t\tvarchar(150),\n",
    "\tgender\t\t\tvarchar(30),\n",
    "\tPRIMARY KEY (id),\n",
    "\tFOREIGN KEY (department_id) REFERENCES departments(id)\n",
    ");\n",
    "\n",
    "CREATE TABLE managers (\n",
    "\tmanager_id\t\tvarchar(6) NOT NULL,\n",
    "\temployee_id\t\tvarchar(6) NOT NULL,\n",
    "\tdepartment_id\tvarchar(3),\n",
    "\tPRIMARY KEY (manager_id, employee_id),\n",
    "\tFOREIGN KEY (manager_id) REFERENCES employees(id),\n",
    "\tFOREIGN KEY (employee_id) REFERENCES employees(id),\n",
    "\tFOREIGN KEY (department_id) REFERENCES departments(id)\n",
    ");\n",
    "\n",
    "CREATE TABLE customers (\n",
    "\tcustomer_id\t\tvarchar(6) NOT NULL,\n",
    "\tfirst_name\t\tvarchar(50),\n",
    "\tlast_name\t\tvarchar(50),\n",
    "\temail\t\t\tvarchar(150),\n",
    "\tgender\t\t\tvarchar(30),\n",
    "\taddress\t\t\tvarchar(200),\n",
    "\tstate\t\t\tvarchar(50),\n",
    "\tPRIMARY KEY (customer_id)\n",
    ");\n",
    " \n",
    "CREATE TABLE interaction_techniques (\n",
    "\ttechnique_id \tvarchar(2) NOT NULL,\n",
    "\tdescription \tvarchar(50),\n",
    "\tPRIMARY KEY (technique_id)\n",
    ");\n",
    "\n",
    "CREATE TABLE interaction_reasons (\n",
    "\treason_id \t\tvarchar(2) NOT NULL,\n",
    "\tdescription \tvarchar(50),\n",
    "\tPRIMARY KEY (reason_id)\n",
    ");\n",
    " \n",
    "CREATE TABLE interactions (\n",
    "\tinteraction_id \t\tvarchar(6) NOT NULL,\n",
    "\tcustomer_id \t\tvarchar(6),\n",
    "\temployee_id \t\tvarchar(6),\n",
    "\ttechnique_id \t\tvarchar(2),\n",
    "\treason_id \t\t\tvarchar(2),\n",
    "\tPRIMARY KEY (interaction_id),\n",
    "\tFOREIGN KEY (customer_id) REFERENCES customers(customer_id),\n",
    "\tFOREIGN KEY (employee_id) REFERENCES employees(id),\n",
    "\tFOREIGN KEY (technique_id) REFERENCES interaction_techniques(technique_id),\n",
    "\tFOREIGN KEY (reason_id) REFERENCES interaction_reasons(reason_id)\n",
    ");\n",
    "\n",
    "CREATE TABLE shop_categories (\n",
    "\tcategory_id \t\t\tvarchar(3) NOT NULL,\n",
    "\tcategory_description \tvarchar(75),\n",
    "\tPRIMARY KEY (category_id)\n",
    ");\n",
    "\n",
    "CREATE TABLE shop_subcategories (\n",
    "\tsubcategory_id \t\t\tvarchar(3) NOT NULL,\n",
    "\tsubcategory_description varchar(75),\n",
    "\tPRIMARY KEY (subcategory_id)\n",
    ");\n",
    "\n",
    "CREATE TABLE shops (\n",
    "\tshop_id\t\t\t\t\tvarchar(6) NOT NULL,\n",
    "\tshop_name\t\t\t\tvarchar(500),\n",
    "\tcategory_id\t\t\t\tvarchar(3),\n",
    "\tsubcategory_id\t\t\tvarchar(3),\n",
    "\tcreation_date\t\t\tdate,\n",
    "\tlistings_active_count\tint,\n",
    "\tnum_favorites\t\t\tint,\n",
    "\tcurrency_code\t\t\tvarchar(4),\n",
    "\tis_shop_US_based\t\tvarchar(5),\n",
    "\tsale_message\t\t\tvarchar(5),\n",
    "\tsales_count\t\t\t\tint,\n",
    "\treview_count\t\t\tint,\n",
    "\tshop_location\t\t\tvarchar(75),\n",
    "\tPRIMARY KEY (shop_id),\n",
    "\tFOREIGN KEY (category_id) REFERENCES shop_categories(category_id),\n",
    "\tFOREIGN KEY (subcategory_id) REFERENCES shop_subcategories(subcategory_id)\n",
    ");\n",
    "\n",
    "CREATE TABLE products (   \n",
    "\tproduct_id          varchar(6) NOT NULL,\n",
    "    product_name        varchar(500),\n",
    "    seller_id           varchar(6),\n",
    "\trating              numeric(2,1),\n",
    "\treviews             int,\n",
    "\tprice               numeric,\n",
    "\tbadget              varchar(200),\n",
    "\tproduct_url         varchar(1000),\n",
    "\timage_url           varchar(1000),\n",
    "    PRIMARY KEY(product_id),\n",
    "\tFOREIGN KEY (seller_id) REFERENCES shops(shop_id)\n",
    ");\n",
    "\n",
    "CREATE TABLE website_views (\n",
    "\tview_id\t\t\tvarchar(6) NOT NULL,\n",
    "\tproduct_id\t\tvarchar(6),\n",
    "\tview_date\t\tdate,\n",
    "\tview_time\t\ttimestamp,\n",
    "\tip_address\t\tvarchar(50),\n",
    "\ttotal_seconds\tnumeric,\n",
    "\tPRIMARY KEY (view_id),\n",
    "\tFOREIGN KEY (product_id) REFERENCES products(product_id)\n",
    ");\n",
    "\n",
    "CREATE TABLE orders (\n",
    "\torder_id\t\tvarchar(6) NOT NULL,\n",
    "\tcustomer_id\t\tvarchar(6),\n",
    "\tproduct_id\t\tvarchar(6),\n",
    "\tquantity\t\tint,\n",
    "\torder_total\t\tnumeric,\n",
    "\torder_date\t\tdate,\n",
    "\tPRIMARY KEY (order_id),\n",
    "\tFOREIGN KEY (customer_id) REFERENCES customers(customer_id),\n",
    "\tFOREIGN KEY (product_id) REFERENCES products(product_id)\n",
    ");\n",
    "\n",
    "CREATE TABLE return_reasons (   \n",
    "\treturn_reason_id    varchar(2) NOT NULL,\n",
    "    reason_description  varchar(50),\n",
    "    PRIMARY KEY(return_reason_id)\n",
    ");\n",
    "\t\t\t\n",
    "CREATE TABLE return_methods (   \n",
    "\treturn_method_id    varchar(2) NOT NULL,\n",
    "    method_description  varchar(50),\n",
    "    primary key(return_method_id)\n",
    ");\n",
    "\n",
    "CREATE TABLE returns (   \n",
    "\treturn_id           varchar(6) NOT NULL,\n",
    "    order_id            varchar(6),\n",
    "\tquantity_returned   int,\n",
    "\treturn_amount       numeric,\n",
    "\treturn_reason_id    varchar(2),\n",
    "\treturn_method_id    varchar(2),\n",
    "    PRIMARY KEY(return_id),\n",
    "    FOREIGN KEY(order_id) REFERENCES orders(order_id),\n",
    "    FOREIGN KEY(return_reason_id) REFERENCES return_reasons(return_reason_id),\n",
    "    FOREIGN KEY(return_method_id) REFERENCES return_methods(return_method_id)\n",
    ");\n",
    "\"\"\"\n",
    "\n",
    "cur.execute(createCMD)\n",
    "conn.commit()"
   ]
  },
  {
   "cell_type": "markdown",
   "id": "d27cfe28",
   "metadata": {},
   "source": [
    "### Reading in our data"
   ]
  },
  {
   "cell_type": "code",
   "execution_count": 6,
   "id": "d7950301",
   "metadata": {},
   "outputs": [],
   "source": [
    "import pandas as pd\n",
    "import csv"
   ]
  },
  {
   "cell_type": "code",
   "execution_count": 7,
   "id": "515ab4b8",
   "metadata": {},
   "outputs": [],
   "source": [
    "os.chdir('/Users/francescaamato/Dropbox/Columbia/Fall 2022/SQL/Final/Data')\n",
    "\n",
    "departments = pd.DataFrame(pd.read_csv('departments.csv'))\n",
    "employees = pd.DataFrame(pd.read_csv('employees.csv'))\n",
    "managers = pd.DataFrame(pd.read_csv('managers.csv'))\n",
    "customers = pd.DataFrame(pd.read_csv('customers.csv'))\n",
    "interaction_techniques = pd.DataFrame(pd.read_csv('interaction_techniques.csv'))\n",
    "interaction_reasons = pd.DataFrame(pd.read_csv('interaction_reasons.csv'))\n",
    "interactions = pd.DataFrame(pd.read_csv('interactions.csv'))\n",
    "shop_categories = pd.DataFrame(pd.read_csv('shop_categories.csv'))\n",
    "shop_subcategories = pd.DataFrame(pd.read_csv('shop_subcategories.csv'))\n",
    "shops = pd.DataFrame(pd.read_csv('shops.csv'))\n",
    "products = pd.DataFrame(pd.read_csv('products.csv'))\n",
    "website_views = pd.DataFrame(pd.read_csv('website_views.csv'))\n",
    "orders = pd.DataFrame(pd.read_csv('orders.csv'))\n",
    "return_reasons = pd.DataFrame(pd.read_csv('return_reasons.csv'))\n",
    "return_methods = pd.DataFrame(pd.read_csv('return_methods.csv'))\n",
    "returns = pd.DataFrame(pd.read_csv('returns.csv'))"
   ]
  },
  {
   "cell_type": "markdown",
   "id": "24a98599",
   "metadata": {},
   "source": [
    "Setting our date columns:"
   ]
  },
  {
   "cell_type": "code",
   "execution_count": 9,
   "id": "3b1a7aa6",
   "metadata": {},
   "outputs": [],
   "source": [
    "shops['creation_date'] = pd.to_datetime(shops['creation_date'])\n",
    "website_views['view_date'] = pd.to_datetime(website_views['view_date'])\n",
    "website_views['view_time'] = pd.to_datetime(website_views['view_time'], format='%M:%S:%f')"
   ]
  },
  {
   "cell_type": "markdown",
   "id": "1a9c742a",
   "metadata": {},
   "source": [
    "Setting URLs to strings:"
   ]
  },
  {
   "cell_type": "code",
   "execution_count": 10,
   "id": "1b80a077",
   "metadata": {},
   "outputs": [],
   "source": [
    "products['Product_URL'] = products['Product_URL'].astype(str)\n",
    "products['Image_URL'] = products['Image_URL'].astype(str)"
   ]
  },
  {
   "cell_type": "markdown",
   "id": "8edfbc11",
   "metadata": {},
   "source": [
    "### Inserting our data into the database"
   ]
  },
  {
   "cell_type": "code",
   "execution_count": 11,
   "id": "c9525373",
   "metadata": {},
   "outputs": [],
   "source": [
    "#departments\n",
    "for row in departments.itertuples():\n",
    "    cur.execute('''\n",
    "                INSERT INTO departments (id, department_name, annual_budget) \n",
    "                VALUES (%s, %s, %s)\n",
    "                ''',\n",
    "               (row.id, row.department_name, row.annual_budget))\n",
    "conn.commit()"
   ]
  },
  {
   "cell_type": "code",
   "execution_count": 12,
   "id": "90f734c0",
   "metadata": {},
   "outputs": [],
   "source": [
    "#employees\n",
    "for row in employees.itertuples():\n",
    "    cur.execute('''\n",
    "                INSERT INTO employees (id, department_id, first_name, last_name, email, gender)\n",
    "                VALUES (%s, %s, %s, %s, %s, %s)\n",
    "                ''',\n",
    "               (row.id, row.department_id, row.first_name, row.last_name, row.email, row.gender))\n",
    "conn.commit()"
   ]
  },
  {
   "cell_type": "code",
   "execution_count": 13,
   "id": "dd1af287",
   "metadata": {},
   "outputs": [],
   "source": [
    "#managers\n",
    "for row in managers.itertuples():\n",
    "    cur.execute('''\n",
    "                INSERT INTO managers (manager_id, employee_id, department_id)\n",
    "                VALUES (%s, %s, %s)\n",
    "                ''',\n",
    "               (row.manager_id, row.employee_id, row.department_id))\n",
    "conn.commit()"
   ]
  },
  {
   "cell_type": "code",
   "execution_count": 14,
   "id": "65bf7238",
   "metadata": {},
   "outputs": [],
   "source": [
    "#customers\n",
    "for row in customers.itertuples():\n",
    "    cur.execute('''\n",
    "                INSERT INTO customers (customer_id, first_name, last_name, email, gender, address, state)\n",
    "                VALUES (%s, %s, %s, %s, %s, %s, %s)\n",
    "                ''',\n",
    "               (row.customer_id, row.first_name, row.last_name, row.email, row.gender, row.address, row.state))\n",
    "conn.commit()"
   ]
  },
  {
   "cell_type": "code",
   "execution_count": 15,
   "id": "79205436",
   "metadata": {},
   "outputs": [],
   "source": [
    "#interaction techniques\n",
    "for row in interaction_techniques.itertuples():\n",
    "    cur.execute('''\n",
    "                INSERT INTO interaction_techniques (technique_id, description)\n",
    "                VALUES (%s, %s)\n",
    "                ''',\n",
    "               (row.technique_id, row.description))\n",
    "conn.commit()"
   ]
  },
  {
   "cell_type": "code",
   "execution_count": 16,
   "id": "c9473879",
   "metadata": {},
   "outputs": [],
   "source": [
    "#interaction reasons\n",
    "for row in interaction_reasons.itertuples():\n",
    "    cur.execute('''\n",
    "                INSERT INTO interaction_reasons (reason_id, description)\n",
    "                VALUES (%s, %s)\n",
    "                ''',\n",
    "               (row.reason_id, row.description))\n",
    "conn.commit()"
   ]
  },
  {
   "cell_type": "code",
   "execution_count": 17,
   "id": "58862181",
   "metadata": {},
   "outputs": [],
   "source": [
    "#interactions\n",
    "for row in interactions.itertuples():\n",
    "    cur.execute('''\n",
    "                INSERT INTO interactions (interaction_id, customer_id, employee_id, technique_id, reason_id)\n",
    "                VALUES (%s, %s, %s, %s, %s)\n",
    "                ''',\n",
    "               (row.interaction_id, row.customer_id, row.employee_id, row.technique_id, row.reason_id))\n",
    "conn.commit()"
   ]
  },
  {
   "cell_type": "code",
   "execution_count": 18,
   "id": "13ed854b",
   "metadata": {},
   "outputs": [],
   "source": [
    "#shop categories\n",
    "for row in shop_categories.itertuples():\n",
    "    cur.execute('''\n",
    "                INSERT INTO shop_categories (category_id, category_description)\n",
    "                VALUES (%s, %s)\n",
    "                ''',\n",
    "               (row.category_id, row.category_description))\n",
    "conn.commit()"
   ]
  },
  {
   "cell_type": "code",
   "execution_count": 19,
   "id": "68cca6b0",
   "metadata": {},
   "outputs": [],
   "source": [
    "#shop subcategories\n",
    "for row in shop_subcategories.itertuples():\n",
    "    cur.execute('''\n",
    "                INSERT INTO shop_subcategories (subcategory_id, subcategory_description)\n",
    "                VALUES (%s, %s)\n",
    "                ''',\n",
    "               (row.subcategory_id, row.subcategory_description))\n",
    "conn.commit()"
   ]
  },
  {
   "cell_type": "code",
   "execution_count": 20,
   "id": "2eda2ccc",
   "metadata": {},
   "outputs": [],
   "source": [
    "#shops\n",
    "for row in shops.itertuples():\n",
    "    cur.execute('''\n",
    "                INSERT INTO shops (shop_id, shop_name, category_id, subcategory_id, creation_date, listings_active_count, num_favorites, currency_code, is_shop_US_based, sale_message, sales_count, review_count, shop_location)\n",
    "                VALUES (%s, %s, %s, %s, %s, %s, %s, %s, %s, %s, %s, %s, %s)\n",
    "                ''',\n",
    "               (row.shop_id, row.shop_name, row.category_id, row.subcategory_id, row.creation_date, row.listing_active_count, row.num_favorers, row.currency_code, row.is_shop_us_based, row.sale_message, row.sales_count, row.review_count, row.shop_location))\n",
    "conn.commit()"
   ]
  },
  {
   "cell_type": "code",
   "execution_count": 21,
   "id": "1111d13a",
   "metadata": {},
   "outputs": [],
   "source": [
    "#products\n",
    "for row in products.itertuples():\n",
    "    cur.execute('''\n",
    "                INSERT INTO products (product_id, product_name, seller_id, rating, reviews, price, badget, product_url, image_url)\n",
    "                VALUES (%s, %s, %s, %s, %s, %s, %s, %s, %s)\n",
    "                ''',\n",
    "               (row.product_id, row.product_name, row.seller_id, row.rating, row.reviews, row.price, row.badget, row.Product_URL, row.Image_URL))\n",
    "conn.commit()"
   ]
  },
  {
   "cell_type": "code",
   "execution_count": 22,
   "id": "bca937c2",
   "metadata": {},
   "outputs": [],
   "source": [
    "#website views\n",
    "for row in website_views.itertuples():\n",
    "    cur.execute('''\n",
    "                INSERT INTO website_views (view_id, product_id, view_date, view_time, ip_address, total_seconds)\n",
    "                VALUES (%s, %s, %s, %s, %s, %s)\n",
    "                ''',\n",
    "               (row.view_id, row.product_id, row.view_date, row.view_time, row.ip_address, row.total_seconds))\n",
    "conn.commit()"
   ]
  },
  {
   "cell_type": "code",
   "execution_count": 23,
   "id": "445cf826",
   "metadata": {},
   "outputs": [],
   "source": [
    "#orders\n",
    "for row in orders.itertuples():\n",
    "    cur.execute('''\n",
    "                INSERT INTO orders (order_id, customer_id, product_id, quantity, order_total, order_date)\n",
    "                VALUES (%s, %s, %s, %s, %s, %s)\n",
    "                ''',\n",
    "               (row.order_id, row.customer_id, row.product_id, row.quantity, row.order_total, row.order_date))\n",
    "conn.commit()"
   ]
  },
  {
   "cell_type": "code",
   "execution_count": 24,
   "id": "a96ca38d",
   "metadata": {},
   "outputs": [],
   "source": [
    "#return reasons\n",
    "for row in return_reasons.itertuples():\n",
    "    cur.execute('''\n",
    "                INSERT INTO return_reasons (return_reason_id, reason_description)\n",
    "                VALUES (%s, %s)\n",
    "                ''',\n",
    "               (row.return_reason_id, row.reason_description))\n",
    "conn.commit()"
   ]
  },
  {
   "cell_type": "code",
   "execution_count": 25,
   "id": "e99ae642",
   "metadata": {},
   "outputs": [],
   "source": [
    "#return methods\n",
    "for row in return_methods.itertuples():\n",
    "    cur.execute('''\n",
    "                INSERT INTO return_methods (return_method_id, method_description)\n",
    "                VALUES (%s, %s)\n",
    "                ''',\n",
    "               (row.return_method_id, row.method_description))\n",
    "conn.commit()"
   ]
  },
  {
   "cell_type": "code",
   "execution_count": 26,
   "id": "b1f9c368",
   "metadata": {},
   "outputs": [],
   "source": [
    "#returns\n",
    "for row in returns.itertuples():\n",
    "    cur.execute('''\n",
    "                INSERT INTO returns (return_id, order_id, quantity_returned, return_amount, return_reason_id, return_method_id)\n",
    "                VALUES (%s, %s, %s, %s, %s, %s)\n",
    "                ''',\n",
    "                (row.return_id, row.order_id, row.quantity_returned, row.return_amount, row.return_reason_id, row.return_method_id))\n",
    "conn.commit()"
   ]
  }
 ],
 "metadata": {
  "kernelspec": {
   "display_name": "Python 3 (ipykernel)",
   "language": "python",
   "name": "python3"
  },
  "language_info": {
   "codemirror_mode": {
    "name": "ipython",
    "version": 3
   },
   "file_extension": ".py",
   "mimetype": "text/x-python",
   "name": "python",
   "nbconvert_exporter": "python",
   "pygments_lexer": "ipython3",
   "version": "3.9.7"
  }
 },
 "nbformat": 4,
 "nbformat_minor": 5
}
